{
 "metadata": {
  "language_info": {
   "codemirror_mode": {
    "name": "ipython",
    "version": 3
   },
   "file_extension": ".py",
   "mimetype": "text/x-python",
   "name": "python",
   "nbconvert_exporter": "python",
   "pygments_lexer": "ipython3",
   "version": "3.6.9-final"
  },
  "orig_nbformat": 2,
  "kernelspec": {
   "name": "python3",
   "display_name": "Python 3.6.9 64-bit ('crypto_venv')",
   "metadata": {
    "interpreter": {
     "hash": "2befb7167136675e9c884906132aa1fb6e1b1faa5dbd081e0b23f45d275d1b96"
    }
   }
  }
 },
 "nbformat": 4,
 "nbformat_minor": 2,
 "cells": [
  {
   "cell_type": "code",
   "execution_count": null,
   "metadata": {},
   "outputs": [],
   "source": [
    "import logging\n",
    "from time import sleep\n",
    "\n",
    "import alpaca_trade_api as tradeapi\n",
    "import pandas as pd"
   ]
  },
  {
   "cell_type": "code",
   "execution_count": null,
   "metadata": {},
   "outputs": [],
   "source": [
    "logging.basicConfig(filename='errlog.log', level=logging.WARNING, format='%(asctime)s:%(levelname)s:%(message)s',)"
   ]
  },
  {
   "cell_type": "code",
   "execution_count": null,
   "metadata": {},
   "outputs": [],
   "source": [
    "api_key    = 'PKGVS7BNOPEV3OOP2ZAG'\n",
    "api_secret = 'atr83WReTtd1dTLeCwUZMSVWAKode6UURcGSOD4i'\n",
    "base_url   = 'https://paper-api.alpaca.markets'\n",
    "data_url   = 'wss://data.alpaca.markets'"
   ]
  },
  {
   "cell_type": "code",
   "execution_count": null,
   "metadata": {},
   "outputs": [],
   "source": [
    "api  = tradeapi.REST(api_key, api_secret, base_url, api_version='v2')\n",
    "conn = tradeapi.stream2.StreamConn(api_key, api_secret, base_url=base_url, data_url=data_url, data_stream='alpacadatav1')"
   ]
  },
  {
   "cell_type": "code",
   "execution_count": null,
   "metadata": {},
   "outputs": [],
   "source": [
    "def time_to_market_cose():\n",
    "    clock = api.get_clock()\n",
    "    return (clock.next_close - clock.timestamp).total_seconds()\n",
    "\n",
    "def wait_for_market_open():\n",
    "    clock = api.get_clock()\n",
    "    if not clock.is_open:\n",
    "        time_to_open = (clock.next_open - clock.timestamp).total_seconds()\n",
    "        sleep(round(time_to_open))"
   ]
  },
  {
   "cell_type": "code",
   "execution_count": null,
   "metadata": {},
   "outputs": [],
   "source": [
    "def set_trade_params(df):\n",
    "    return {'high': df.high.tail(10).max(), 'low': df.low.tail(10).min(), 'trade_taken': False,}\n",
    "\n",
    "def send_order(direction, bar):\n",
    "    if time_to_market_close() > 120:\n",
    "        print(f'send {direction} trade')\n",
    "        range_size = trade_params['high'] - trade_params['low']\n",
    "\n",
    "        if direction == 'buy':\n",
    "            sl = bar.high - range_size\n",
    "            tp = bar.high + range_size\n",
    "        elif direction == 'sell':\n",
    "            sl = bar.low + range_size\n",
    "            tp = bar.low - range_size\n",
    "\n",
    "        api.submit_order(symbol='TSLA', qty=10, side=direction, type='market', time_in_force='day', order_class='bracket', stop_loss=dict(stop_price=str(sl)), take_profit=dict(limit_price=str(tp)),)\n",
    "\n",
    "        return True\n",
    "    \n",
    "    wait_for_market_open()\n",
    "    return False"
   ]
  },
  {
   "cell_type": "code",
   "execution_count": null,
   "metadata": {},
   "outputs": [],
   "source": [
    "@conn.on(r'^AM.TSLA$')\n",
    "async def one_minute_bars(conn, channel, bar):\n",
    "    if isinstance(candlesticks.df, pd.DataFrame):\n",
    "        ts = pd.to_datetime(bar.timestamp, unit='ms')\n",
    "        candlesticks.df.loc[ts] = [bar.open, bar.high, bar.low, bar.close, bar.volume]\n",
    "\n",
    "    if not trade_params['trade_taken']:\n",
    "        if bar.high > trade_params['high']:\n",
    "            trade_params['trade_taken'] = send_order('buy', bar)\n",
    "        elif bar.low < trade_params['low']:\n",
    "            trade_params['trade_taken']: send_order('sell', bar)\n",
    "\n",
    "    if time_to_market_close() > 120:\n",
    "        wait_for_market_open()\n",
    "\n",
    "@conn.on(r'^trade_updates$')\n",
    "async def on_trade_updates(conn, channel, trade):\n",
    "    if trade.order['order_type'] != 'market' and trade.order['filled_qty'] == 10:\n",
    "        trade_params = set_trade_params(candlesticks.df.TSLA)"
   ]
  },
  {
   "cell_type": "code",
   "execution_count": null,
   "metadata": {},
   "outputs": [],
   "source": [
    "candlesticks = api.get_barset('TSLA', 'minute', limit=10)\n",
    "trade_params = set_trade_params(candlesticks.df.TSLA)"
   ]
  },
  {
   "cell_type": "code",
   "execution_count": null,
   "metadata": {},
   "outputs": [],
   "source": [
    "conn.run(['AM.TSLA', 'trade_updates'])"
   ]
  },
  {
   "cell_type": "code",
   "execution_count": null,
   "metadata": {},
   "outputs": [],
   "source": []
  }
 ]
}